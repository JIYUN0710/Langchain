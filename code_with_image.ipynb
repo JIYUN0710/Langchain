{
 "cells": [
  {
   "cell_type": "code",
   "execution_count": null,
   "metadata": {},
   "outputs": [],
   "source": [
    "!pip install selenium"
   ]
  },
  {
   "cell_type": "code",
   "execution_count": null,
   "metadata": {},
   "outputs": [],
   "source": [
    "!pip install pandas openpyxl"
   ]
  },
  {
   "cell_type": "code",
   "execution_count": 1,
   "metadata": {},
   "outputs": [
    {
     "data": {
      "text/plain": [
       "True"
      ]
     },
     "execution_count": 1,
     "metadata": {},
     "output_type": "execute_result"
    }
   ],
   "source": [
    "# API 키를 환경변수로 관리하기 위한 설정 파일\n",
    "from dotenv import load_dotenv\n",
    "\n",
    "# API 키 정보 로드\n",
    "load_dotenv()"
   ]
  },
  {
   "cell_type": "code",
   "execution_count": 2,
   "metadata": {},
   "outputs": [
    {
     "name": "stderr",
     "output_type": "stream",
     "text": [
      "USER_AGENT environment variable not set, consider setting it to identify your requests.\n"
     ]
    }
   ],
   "source": [
    "from selenium import webdriver\n",
    "from selenium.webdriver.chrome.service import Service\n",
    "from selenium.webdriver.common.by import By\n",
    "from selenium.webdriver.common.keys import Keys\n",
    "from selenium.webdriver.chrome.service import Service\n",
    "import bs4\n",
    "from langchain import hub\n",
    "from langchain_text_splitters import RecursiveCharacterTextSplitter\n",
    "from langchain_community.document_loaders import WebBaseLoader\n",
    "from langchain_community.vectorstores import FAISS\n",
    "from langchain_core.output_parsers import StrOutputParser\n",
    "from langchain_core.runnables import RunnablePassthrough\n",
    "from langchain_openai import ChatOpenAI, OpenAIEmbeddings\n"
   ]
  },
  {
   "cell_type": "code",
   "execution_count": null,
   "metadata": {},
   "outputs": [],
   "source": []
  },
  {
   "cell_type": "markdown",
   "metadata": {},
   "source": [
    "## 공지사항 크롤링(10개)\n",
    "- 공지사항에는 댓글이 없음\n",
    "- 이미지도 url과 함께 가져오기"
   ]
  },
  {
   "cell_type": "code",
   "execution_count": 3,
   "metadata": {},
   "outputs": [],
   "source": [
    "# 이미지 같이 불러오기\n",
    "import pandas as pd\n",
    "from selenium import webdriver\n",
    "from selenium.webdriver.common.by import By\n",
    "from selenium.webdriver.support.ui import WebDriverWait\n",
    "from selenium.webdriver.support import expected_conditions as EC\n",
    "from selenium.common.exceptions import TimeoutException\n",
    "import time\n",
    "import pandas as pd\n",
    "import time\n",
    "\n",
    "driver = webdriver.Chrome()\n",
    "driver.get('https://forum.netmarble.com/enn_ko/list/3/1')\n",
    "notice = []\n",
    "\n",
    "for i in range(1, 11):\n",
    "    next_path = f'//*[@id=\"articleListSubView\"]/li[{i}]/div[2]/div[2]/div[1]/a'\n",
    "    WebDriverWait(driver, 10).until(EC.element_to_be_clickable((By.XPATH, next_path))).click()\n",
    "    \n",
    "    b_path = '//*[@id=\"appView\"]/div[1]/div[2]'\n",
    "    content_ = WebDriverWait(driver, 10).until(EC.presence_of_element_located((By.XPATH, b_path)))\n",
    "\n",
    "    # 이미지 URL 로드\n",
    "    try:\n",
    "        b_path = '//*[@id=\"contentsDetail\"]'\n",
    "        img_elements = driver.find_elements(By.XPATH, f'{b_path}//img')  # 내용 내부의 모든 이미지 요소 찾기\n",
    "        img_urls = [img.get_attribute('src') for img in img_elements]\n",
    "        img_urls_str = '; '.join(img_urls)  # 여러 이미지 URL을 문자열로 결합\n",
    "    except TimeoutException:\n",
    "        img_urls_str = '이미지 없음'\n",
    "\n",
    "    notice.append({'notice': content_.text, 'image_urls': img_urls_str})\n",
    "    \n",
    "    driver.back()\n",
    "    \n",
    "    WebDriverWait(driver, 10).until(EC.presence_of_element_located((By.XPATH, next_path)))\n",
    "    time.sleep(1)  \n",
    "\n",
    "driver.quit()\n"
   ]
  },
  {
   "cell_type": "code",
   "execution_count": 4,
   "metadata": {},
   "outputs": [
    {
     "name": "stdout",
     "output_type": "stream",
     "text": [
      "Excel 파일이 성공적으로 저장되었습니다.\n"
     ]
    }
   ],
   "source": [
    "# DataFrame으로 변환\n",
    "df = pd.DataFrame(notice)\n",
    "\n",
    "# Excel 파일로 저장\n",
    "df.to_excel('C:/Users/jyp/.conda/envs/langchain-cource/00_PT/notice_with_image.xlsx', index=False, engine='openpyxl')\n",
    "\n",
    "print(\"Excel 파일이 성공적으로 저장되었습니다.\")"
   ]
  },
  {
   "cell_type": "code",
   "execution_count": null,
   "metadata": {},
   "outputs": [],
   "source": []
  },
  {
   "cell_type": "code",
   "execution_count": null,
   "metadata": {},
   "outputs": [],
   "source": []
  },
  {
   "cell_type": "markdown",
   "metadata": {},
   "source": [
    "## 업데이트 (10개)\n",
    "- 댓글 없음\n",
    "- 이미지 같이 저장"
   ]
  },
  {
   "cell_type": "code",
   "execution_count": 5,
   "metadata": {},
   "outputs": [],
   "source": [
    "# 이미지 같이 불러오기\n",
    "import pandas as pd\n",
    "from selenium import webdriver\n",
    "from selenium.webdriver.common.by import By\n",
    "from selenium.webdriver.support.ui import WebDriverWait\n",
    "from selenium.webdriver.support import expected_conditions as EC\n",
    "from selenium.common.exceptions import TimeoutException\n",
    "import time\n",
    "import pandas as pd\n",
    "import time\n",
    "\n",
    "driver = webdriver.Chrome()\n",
    "driver.get('https://forum.netmarble.com/enn_ko/list/21/1')\n",
    "notice = []\n",
    "\n",
    "for i in range(1, 11):\n",
    "    next_path = f'//*[@id=\"articleListSubView\"]/li[{i}]/div[2]/div[2]/div[1]/a'\n",
    "    WebDriverWait(driver, 10).until(EC.element_to_be_clickable((By.XPATH, next_path))).click()\n",
    "    \n",
    "    b_path = '//*[@id=\"appView\"]/div[1]/div[2]'\n",
    "    content_ = WebDriverWait(driver, 10).until(EC.presence_of_element_located((By.XPATH, b_path)))\n",
    "\n",
    "    # 이미지 URL 로드\n",
    "    try:\n",
    "        b_path = '//*[@id=\"contentsDetail\"]'\n",
    "        img_elements = driver.find_elements(By.XPATH, f'{b_path}//img')  # 내용 내부의 모든 이미지 요소 찾기\n",
    "        img_urls = [img.get_attribute('src') for img in img_elements]\n",
    "        img_urls_str = '; '.join(img_urls)  # 여러 이미지 URL을 문자열로 결합\n",
    "    except TimeoutException:\n",
    "        img_urls_str = '이미지 없음'\n",
    "\n",
    "    notice.append({'notice': content_.text, 'image_urls': img_urls_str})\n",
    "    \n",
    "    driver.back()\n",
    "    \n",
    "    WebDriverWait(driver, 10).until(EC.presence_of_element_located((By.XPATH, next_path)))\n",
    "    time.sleep(1)  \n",
    "\n",
    "driver.quit()\n"
   ]
  },
  {
   "cell_type": "code",
   "execution_count": 6,
   "metadata": {},
   "outputs": [
    {
     "name": "stdout",
     "output_type": "stream",
     "text": [
      "Excel 파일이 성공적으로 저장되었습니다.\n"
     ]
    }
   ],
   "source": [
    "# DataFrame으로 변환\n",
    "df = pd.DataFrame(notice)\n",
    "\n",
    "# Excel 파일로 저장\n",
    "df.to_excel('C:/Users/jyp/.conda/envs/langchain-cource/00_PT/update_with_image.xlsx', index=False, engine='openpyxl')\n",
    "\n",
    "print(\"Excel 파일이 성공적으로 저장되었습니다.\")"
   ]
  },
  {
   "cell_type": "code",
   "execution_count": null,
   "metadata": {},
   "outputs": [],
   "source": []
  },
  {
   "cell_type": "code",
   "execution_count": null,
   "metadata": {},
   "outputs": [],
   "source": []
  },
  {
   "cell_type": "markdown",
   "metadata": {},
   "source": [
    "## 공략 & TIP (10개)\n",
    "- 댓글 있음\n",
    "- 이미지도 같이"
   ]
  },
  {
   "cell_type": "code",
   "execution_count": 7,
   "metadata": {},
   "outputs": [],
   "source": [
    "# 이미지 같이 불러오기\n",
    "import pandas as pd\n",
    "from selenium import webdriver\n",
    "from selenium.webdriver.common.by import By\n",
    "from selenium.webdriver.support.ui import WebDriverWait\n",
    "from selenium.webdriver.support import expected_conditions as EC\n",
    "from selenium.common.exceptions import TimeoutException\n",
    "\n",
    "# Selenium 설정\n",
    "driver = webdriver.Chrome()\n",
    "driver.get('https://forum.netmarble.com/enn_ko/list/27/1')\n",
    "tip = []\n",
    "\n",
    "for i in range(1, 11):  # 예시로 10개의 크롤링\n",
    "    next_path = f'//*[@id=\"articleListSubView\"]/li[{i}]/div[2]/div[2]/div[1]/a'\n",
    "    WebDriverWait(driver, 10).until(EC.element_to_be_clickable((By.XPATH, next_path))).click()\n",
    "    \n",
    "    #  내용 로드\n",
    "    b_path = '//*[@id=\"appView\"]/div[1]/div[2]'\n",
    "    content_ = WebDriverWait(driver, 10).until(EC.presence_of_element_located((By.XPATH, b_path)))\n",
    "    \n",
    "    # 이미지 URL 로드\n",
    "    try:\n",
    "        b_path = '//*[@id=\"contentsDetail\"]'\n",
    "        img_elements = driver.find_elements(By.XPATH, f'{b_path}//img')  # 내용 내부의 모든 이미지 요소 찾기\n",
    "        img_urls = [img.get_attribute('src') for img in img_elements]\n",
    "        img_urls_str = '; '.join(img_urls)  # 여러 이미지 URL을 문자열로 결합\n",
    "    except TimeoutException:\n",
    "        img_urls_str = '이미지 없음'\n",
    "    \n",
    "    try:\n",
    "        # 댓글 영역 로드 시도\n",
    "        rep_path = '//*[@id=\"replyFilterArea\"]/div'\n",
    "        rep = WebDriverWait(driver, 5).until(EC.presence_of_element_located((By.XPATH, rep_path)))\n",
    "        \n",
    "        # 불필요한 부분 제거\n",
    "        full_text = rep.text\n",
    "        filtered_lines = [line for line in full_text.split('\\n') if line not in ['최신순', '등록순', '답글순', '필터', '답글','모두 보기']]\n",
    "        rep_filtered = '\\n'.join(filtered_lines)\n",
    "        \n",
    "    except TimeoutException:\n",
    "        # 댓글 영역이 없는 경우\n",
    "        rep_filtered = '댓글 없음'\n",
    "    \n",
    "    # 결과 저장\n",
    "    tip.append({'content': content_.text, 'reply': rep_filtered, 'image_urls': img_urls_str})\n",
    "\n",
    "    # 뒤로 가기\n",
    "    driver.back()\n",
    "    WebDriverWait(driver, 10).until(EC.presence_of_element_located((By.XPATH, next_path)))\n",
    "\n",
    "driver.quit()\n"
   ]
  },
  {
   "cell_type": "code",
   "execution_count": 8,
   "metadata": {},
   "outputs": [
    {
     "name": "stdout",
     "output_type": "stream",
     "text": [
      "Excel 파일이 성공적으로 저장되었습니다.\n"
     ]
    }
   ],
   "source": [
    "\n",
    "# DataFrame으로 변환\n",
    "df = pd.DataFrame(tip)\n",
    "\n",
    "# Excel 파일로 저장\n",
    "df.to_excel('C:/Users/jyp/.conda/envs/langchain-cource/00_PT/tip_with_images.xlsx', index=False, engine='openpyxl')\n",
    "\n",
    "print(\"Excel 파일이 성공적으로 저장되었습니다.\")\n"
   ]
  },
  {
   "cell_type": "code",
   "execution_count": null,
   "metadata": {},
   "outputs": [],
   "source": []
  },
  {
   "cell_type": "markdown",
   "metadata": {},
   "source": [
    "## 자유게시판 (30개)\n",
    "- 댓글 있음\n",
    "- 이미지 불러오기"
   ]
  },
  {
   "cell_type": "code",
   "execution_count": 11,
   "metadata": {},
   "outputs": [
    {
     "name": "stdout",
     "output_type": "stream",
     "text": [
      "Excel 파일이 성공적으로 저장되었습니다.\n"
     ]
    }
   ],
   "source": [
    "import pandas as pd\n",
    "from selenium import webdriver\n",
    "from selenium.webdriver.common.by import By\n",
    "from selenium.webdriver.support.ui import WebDriverWait\n",
    "from selenium.webdriver.support import expected_conditions as EC\n",
    "from selenium.common.exceptions import TimeoutException, StaleElementReferenceException\n",
    "\n",
    "# Selenium 설정\n",
    "driver = webdriver.Chrome()\n",
    "driver.get('https://forum.netmarble.com/enn_ko/list/33/1')\n",
    "board = []\n",
    "\n",
    "for page in range(2):\n",
    "    for i in range(1, 16):  \n",
    "        next_path = f'//*[@id=\"articleListSubView\"]/li[{i}]/div[2]/div[2]/div[1]/a'\n",
    "        \n",
    "        try:\n",
    "            # 요소를 다시 찾기\n",
    "            element = WebDriverWait(driver, 10).until(EC.element_to_be_clickable((By.XPATH, next_path)))\n",
    "            element.click()\n",
    "\n",
    "            b_path = '//*[@id=\"appView\"]/div[1]/div[2]'\n",
    "            content_ = WebDriverWait(driver, 10).until(EC.presence_of_element_located((By.XPATH, b_path)))\n",
    "\n",
    "            try:\n",
    "                b_path = '//*[@id=\"contentsDetail\"]'\n",
    "                img_elements = driver.find_elements(By.XPATH, f'{b_path}//img')  # 내용 내부의 모든 이미지 요소 찾기\n",
    "                img_urls = [img.get_attribute('src') for img in img_elements]\n",
    "                img_urls_str = '; '.join(img_urls)  # 여러 이미지 URL을 문자열로 결합\n",
    "            except TimeoutException:\n",
    "                img_urls_str = '이미지 없음'\n",
    "\n",
    "            try:\n",
    "                # 댓글 영역 로드 시도\n",
    "                rep_path = '//*[@id=\"replyFilterArea\"]/div'\n",
    "                rep = WebDriverWait(driver, 5).until(EC.presence_of_element_located((By.XPATH, rep_path)))\n",
    "\n",
    "                # 불필요한 부분 제거\n",
    "                full_text = rep.text\n",
    "                filtered_lines = [line for line in full_text.split('\\n') if line not in ['최신순', '등록순', '답글순', '필터', '답글','모두 보기']]\n",
    "                rep_filtered = '\\n'.join(filtered_lines)\n",
    "\n",
    "            except TimeoutException:\n",
    "                # 댓글 영역이 없는 경우\n",
    "                rep_filtered = '댓글 없음'\n",
    "\n",
    "            # 결과 저장\n",
    "            board.append({'content': content_.text, 'reply': rep_filtered, 'image_urls': img_urls_str})\n",
    "\n",
    "            # 뒤로 가기\n",
    "            driver.back()\n",
    "            WebDriverWait(driver, 10).until(EC.presence_of_element_located((By.XPATH, next_path)))\n",
    "        \n",
    "        except (TimeoutException, StaleElementReferenceException):\n",
    "            print(f\"Failed to process article {i} on page {page}\")\n",
    "            continue\n",
    "    \n",
    "    try:\n",
    "        next_page_xpath = '//*[@id=\"appView\"]/div[2]/div/div[2]/div[3]/div[2]/div/ul/li[2]/a'  \n",
    "        WebDriverWait(driver, 10).until(EC.element_to_be_clickable((By.XPATH, next_page_xpath))).click()\n",
    "    except TimeoutException:\n",
    "        print(f\"Failed to navigate to page {page + 1}\")\n",
    "        break\n",
    "\n",
    "driver.quit()\n"
   ]
  },
  {
   "cell_type": "code",
   "execution_count": 12,
   "metadata": {},
   "outputs": [
    {
     "name": "stdout",
     "output_type": "stream",
     "text": [
      "Excel 파일이 성공적으로 저장되었습니다.\n"
     ]
    }
   ],
   "source": [
    "\n",
    "# DataFrame으로 변환\n",
    "df = pd.DataFrame(board)\n",
    "\n",
    "# Excel 파일로 저장\n",
    "df.to_excel('C:/Users/jyp/.conda/envs/langchain-cource/00_PT/board_with_images.xlsx', index=False, engine='openpyxl')\n",
    "\n",
    "print(\"Excel 파일이 성공적으로 저장되었습니다.\")\n"
   ]
  },
  {
   "cell_type": "code",
   "execution_count": null,
   "metadata": {},
   "outputs": [],
   "source": []
  },
  {
   "cell_type": "markdown",
   "metadata": {},
   "source": []
  }
 ],
 "metadata": {
  "kernelspec": {
   "display_name": "base",
   "language": "python",
   "name": "python3"
  },
  "language_info": {
   "codemirror_mode": {
    "name": "ipython",
    "version": 3
   },
   "file_extension": ".py",
   "mimetype": "text/x-python",
   "name": "python",
   "nbconvert_exporter": "python",
   "pygments_lexer": "ipython3",
   "version": "3.12.3"
  }
 },
 "nbformat": 4,
 "nbformat_minor": 2
}
